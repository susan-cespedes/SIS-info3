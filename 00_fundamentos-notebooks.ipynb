{
 "cells": [
  {
   "cell_type": "code",
   "execution_count": 22,
   "metadata": {},
   "outputs": [],
   "source": [
    "#Un notebook es un documento (web) interactivo para la ejecución de código Python (o en otro lenguajes de programación)\n",
    "#El contenido de organiza en celdas. Las celdas pueden contener código, markup o llamadas a \"funciones mágicas\"\n",
    "#El entorno de ejecución se conoce como \"kernel\". Cada documento inicia su propio \"kernel\" y hay un número limitado de \n",
    "#de documentos que pueden estar en ejecución al mismo tiempo.\n",
    "#No ofrece todas las capacidades de un IDE (debugging, por ejemplo)\n",
    "\n",
    "\n",
    "#JupyterLab (interfaz de nueva generación)"
   ]
  },
  {
   "cell_type": "code",
   "execution_count": 23,
   "metadata": {},
   "outputs": [
    {
     "data": {
      "text/plain": [
       "4"
      ]
     },
     "execution_count": 23,
     "metadata": {},
     "output_type": "execute_result"
    }
   ],
   "source": [
    "#ESC+M cambia el tipo de celda a Markup\n",
    "#CTRL+ENTER ejecuta el codigo de la celda y muestra la salida debajo\n",
    "#SHIFT+ENTER ejecuta el codigo y mueve el foco a la siguiente celda\n",
    "#ALT+ENTER ejecuta el código y crea una celda debajo\n",
    "2+2"
   ]
  },
  {
   "cell_type": "markdown",
   "metadata": {},
   "source": [
    "print('Hola')"
   ]
  },
  {
   "cell_type": "markdown",
   "metadata": {},
   "source": [
    "Celda de texto con Markdown:\n",
    "\n",
    "\n",
    "# Titulo\n",
    "\n",
    "### Subtitulo\n",
    "\n",
    "- Fish\n",
    "- Eggs\n",
    "- Cheese\n",
    "- Meat\n",
    "\n",
    "```\n",
    "print()\n",
    "```\n",
    "\n",
    "__[]()__"
   ]
  },
  {
   "cell_type": "markdown",
   "metadata": {},
   "source": [
    "Celda de texto con LaTeX:\n",
    "    \n",
    "    \n",
    "To insert a mathematical formula we use the dollar symbol $, as follows:\n",
    "    \n",
    "Euler's identity: $ e^{i \\pi} + 1 = 0 $\n",
    "\n",
    "To isolate and center the formulas and enter in math display mode, we use 2 dollars symbol:\n",
    "$$\n",
    "e^{i \\pi} + 1 = 0\n",
    "$$"
   ]
  },
  {
   "cell_type": "markdown",
   "metadata": {},
   "source": [
    "### ESC + M  Para incluir markdown en lugar de código\n",
    "__[Jupyter Markdown](https://www.datacamp.com/community/tutorials/markdown-in-jupyter-notebook)__"
   ]
  },
  {
   "cell_type": "code",
   "execution_count": 24,
   "metadata": {},
   "outputs": [],
   "source": [
    "#Variables creadas en una celda pueden emplearse en otras\n",
    "x = 5 // 2"
   ]
  },
  {
   "cell_type": "code",
   "execution_count": 25,
   "metadata": {},
   "outputs": [
    {
     "name": "stdout",
     "output_type": "stream",
     "text": [
      "2\n"
     ]
    }
   ],
   "source": [
    "print(x)"
   ]
  },
  {
   "cell_type": "code",
   "execution_count": 26,
   "metadata": {},
   "outputs": [],
   "source": [
    "#SHIFT+TAB muestra la ayuda de una funcion\n",
    "def saludo(nombre):\n",
    "    print(\"Hola {0}\".format(nombre))"
   ]
  },
  {
   "cell_type": "code",
   "execution_count": 27,
   "metadata": {},
   "outputs": [
    {
     "name": "stdout",
     "output_type": "stream",
     "text": [
      "Hola Estudiantes\n"
     ]
    }
   ],
   "source": [
    "saludo(\"Estudiantes\")"
   ]
  },
  {
   "cell_type": "code",
   "execution_count": 1,
   "metadata": {},
   "outputs": [
    {
     "name": "stdout",
     "output_type": "stream",
     "text": [
      "Python 3.11.4\n"
     ]
    }
   ],
   "source": [
    "#Ejecutar linea de comandos\n",
    "!python --version"
   ]
  },
  {
   "cell_type": "code",
   "execution_count": 3,
   "metadata": {
    "scrolled": false
   },
   "outputs": [
    {
     "name": "stdout",
     "output_type": "stream",
     "text": [
      "Selected Jupyter core packages...\n",
      "IPython          : 8.12.0\n",
      "ipykernel        : 6.19.2\n",
      "ipywidgets       : 8.0.4\n",
      "jupyter_client   : 7.4.9\n",
      "jupyter_core     : 5.3.0\n",
      "jupyter_server   : 1.23.4\n",
      "jupyterlab       : 3.6.3\n",
      "nbclient         : 0.5.13\n",
      "nbconvert        : 6.5.4\n",
      "nbformat         : 5.7.0\n",
      "notebook         : 6.5.4\n",
      "qtconsole        : 5.4.2\n",
      "traitlets        : 5.7.1\n"
     ]
    }
   ],
   "source": [
    "!jupyter --version"
   ]
  },
  {
   "cell_type": "code",
   "execution_count": 4,
   "metadata": {
    "scrolled": true
   },
   "outputs": [
    {
     "name": "stdout",
     "output_type": "stream",
     "text": [
      " El volumen de la unidad C no tiene etiqueta.\n",
      " El n£mero de serie del volumen es: 5C90-85A1\n",
      "\n",
      " Directorio de C:\\dev\\SIS225\\01_python\\01_notebooks\n",
      "\n",
      "01/02/2024  19:37    <DIR>          .\n",
      "27/08/2023  17:13    <DIR>          ..\n",
      "01/02/2024  19:07    <DIR>          .ipynb_checkpoints\n",
      "01/02/2024  19:37            40.767 00_fundamentos-notebooks.ipynb\n",
      "27/08/2023  17:09    <DIR>          archivos\n",
      "03/08/2021  19:52        37.774.971 Demostraci¢n de Notebooks (2021-02-03 at 03_56 GMT-8).mp4\n",
      "12/10/2019  10:19           323.961 m3-demo-03-ExploringTheMagicCommands.ipynb\n",
      "28/12/2019  22:17            40.304 m4-demo-02-InteractiveNotebooksWithDashboardsWidgets.ipynb\n",
      "01/02/2024  19:35             1.888 Untitled.ipynb\n",
      "               5 archivos     38.181.891 bytes\n",
      "               4 dirs  374.460.260.352 bytes libres\n"
     ]
    }
   ],
   "source": [
    "!dir"
   ]
  },
  {
   "cell_type": "markdown",
   "metadata": {},
   "source": [
    "### Funciones mágicas (con la entrada en una o múltiples lineas)"
   ]
  },
  {
   "cell_type": "code",
   "execution_count": 5,
   "metadata": {},
   "outputs": [
    {
     "data": {
      "application/json": {
       "cell": {
        "!": "OSMagics",
        "HTML": "Other",
        "SVG": "Other",
        "bash": "Other",
        "capture": "ExecutionMagics",
        "cmd": "Other",
        "debug": "ExecutionMagics",
        "file": "Other",
        "html": "DisplayMagics",
        "javascript": "DisplayMagics",
        "js": "DisplayMagics",
        "latex": "DisplayMagics",
        "markdown": "DisplayMagics",
        "perl": "Other",
        "prun": "ExecutionMagics",
        "pypy": "Other",
        "python": "Other",
        "python2": "Other",
        "python3": "Other",
        "ruby": "Other",
        "script": "ScriptMagics",
        "sh": "Other",
        "svg": "DisplayMagics",
        "sx": "OSMagics",
        "system": "OSMagics",
        "time": "ExecutionMagics",
        "timeit": "ExecutionMagics",
        "writefile": "OSMagics"
       },
       "line": {
        "alias": "OSMagics",
        "alias_magic": "BasicMagics",
        "autoawait": "AsyncMagics",
        "autocall": "AutoMagics",
        "automagic": "AutoMagics",
        "autosave": "KernelMagics",
        "bookmark": "OSMagics",
        "cd": "OSMagics",
        "clear": "KernelMagics",
        "cls": "KernelMagics",
        "colors": "BasicMagics",
        "conda": "PackagingMagics",
        "config": "ConfigMagics",
        "connect_info": "KernelMagics",
        "copy": "Other",
        "ddir": "Other",
        "debug": "ExecutionMagics",
        "dhist": "OSMagics",
        "dirs": "OSMagics",
        "doctest_mode": "BasicMagics",
        "echo": "Other",
        "ed": "Other",
        "edit": "KernelMagics",
        "env": "OSMagics",
        "gui": "BasicMagics",
        "hist": "Other",
        "history": "HistoryMagics",
        "killbgscripts": "ScriptMagics",
        "ldir": "Other",
        "less": "KernelMagics",
        "load": "CodeMagics",
        "load_ext": "ExtensionMagics",
        "loadpy": "CodeMagics",
        "logoff": "LoggingMagics",
        "logon": "LoggingMagics",
        "logstart": "LoggingMagics",
        "logstate": "LoggingMagics",
        "logstop": "LoggingMagics",
        "ls": "Other",
        "lsmagic": "BasicMagics",
        "macro": "ExecutionMagics",
        "magic": "BasicMagics",
        "matplotlib": "PylabMagics",
        "mkdir": "Other",
        "more": "KernelMagics",
        "notebook": "BasicMagics",
        "page": "BasicMagics",
        "pastebin": "CodeMagics",
        "pdb": "ExecutionMagics",
        "pdef": "NamespaceMagics",
        "pdoc": "NamespaceMagics",
        "pfile": "NamespaceMagics",
        "pinfo": "NamespaceMagics",
        "pinfo2": "NamespaceMagics",
        "pip": "PackagingMagics",
        "popd": "OSMagics",
        "pprint": "BasicMagics",
        "precision": "BasicMagics",
        "prun": "ExecutionMagics",
        "psearch": "NamespaceMagics",
        "psource": "NamespaceMagics",
        "pushd": "OSMagics",
        "pwd": "OSMagics",
        "pycat": "OSMagics",
        "pylab": "PylabMagics",
        "qtconsole": "KernelMagics",
        "quickref": "BasicMagics",
        "recall": "HistoryMagics",
        "rehashx": "OSMagics",
        "reload_ext": "ExtensionMagics",
        "ren": "Other",
        "rep": "Other",
        "rerun": "HistoryMagics",
        "reset": "NamespaceMagics",
        "reset_selective": "NamespaceMagics",
        "rmdir": "Other",
        "run": "ExecutionMagics",
        "save": "CodeMagics",
        "sc": "OSMagics",
        "set_env": "OSMagics",
        "store": "StoreMagics",
        "sx": "OSMagics",
        "system": "OSMagics",
        "tb": "ExecutionMagics",
        "time": "ExecutionMagics",
        "timeit": "ExecutionMagics",
        "unalias": "OSMagics",
        "unload_ext": "ExtensionMagics",
        "who": "NamespaceMagics",
        "who_ls": "NamespaceMagics",
        "whos": "NamespaceMagics",
        "xdel": "NamespaceMagics",
        "xmode": "BasicMagics"
       }
      },
      "text/plain": [
       "Available line magics:\n",
       "%alias  %alias_magic  %autoawait  %autocall  %automagic  %autosave  %bookmark  %cd  %clear  %cls  %colors  %conda  %config  %connect_info  %copy  %ddir  %debug  %dhist  %dirs  %doctest_mode  %echo  %ed  %edit  %env  %gui  %hist  %history  %killbgscripts  %ldir  %less  %load  %load_ext  %loadpy  %logoff  %logon  %logstart  %logstate  %logstop  %ls  %lsmagic  %macro  %magic  %matplotlib  %mkdir  %more  %notebook  %page  %pastebin  %pdb  %pdef  %pdoc  %pfile  %pinfo  %pinfo2  %pip  %popd  %pprint  %precision  %prun  %psearch  %psource  %pushd  %pwd  %pycat  %pylab  %qtconsole  %quickref  %recall  %rehashx  %reload_ext  %ren  %rep  %rerun  %reset  %reset_selective  %rmdir  %run  %save  %sc  %set_env  %store  %sx  %system  %tb  %time  %timeit  %unalias  %unload_ext  %who  %who_ls  %whos  %xdel  %xmode\n",
       "\n",
       "Available cell magics:\n",
       "%%!  %%HTML  %%SVG  %%bash  %%capture  %%cmd  %%debug  %%file  %%html  %%javascript  %%js  %%latex  %%markdown  %%perl  %%prun  %%pypy  %%python  %%python2  %%python3  %%ruby  %%script  %%sh  %%svg  %%sx  %%system  %%time  %%timeit  %%writefile\n",
       "\n",
       "Automagic is ON, % prefix IS NOT needed for line magics."
      ]
     },
     "execution_count": 5,
     "metadata": {},
     "output_type": "execute_result"
    }
   ],
   "source": [
    "%lsmagic"
   ]
  },
  {
   "cell_type": "code",
   "execution_count": 6,
   "metadata": {},
   "outputs": [],
   "source": [
    "%pwd?"
   ]
  },
  {
   "cell_type": "code",
   "execution_count": 43,
   "metadata": {},
   "outputs": [
    {
     "data": {
      "text/plain": [
       "'C:\\\\dev\\\\Ucato\\\\SIS225\\\\01_python\\\\01_notebooks'"
      ]
     },
     "execution_count": 43,
     "metadata": {},
     "output_type": "execute_result"
    }
   ],
   "source": [
    "%pwd"
   ]
  },
  {
   "cell_type": "code",
   "execution_count": 32,
   "metadata": {},
   "outputs": [
    {
     "name": "stdout",
     "output_type": "stream",
     "text": [
      "Total number of aliases: 8\n"
     ]
    },
    {
     "data": {
      "text/plain": [
       "[('copy', 'copy'),\n",
       " ('ddir', 'dir /ad /on'),\n",
       " ('echo', 'echo'),\n",
       " ('ldir', 'dir /ad /on'),\n",
       " ('ls', 'dir /on'),\n",
       " ('mkdir', 'mkdir'),\n",
       " ('ren', 'ren'),\n",
       " ('rmdir', 'rmdir')]"
      ]
     },
     "execution_count": 32,
     "metadata": {},
     "output_type": "execute_result"
    }
   ],
   "source": [
    "%alias"
   ]
  },
  {
   "cell_type": "code",
   "execution_count": 33,
   "metadata": {},
   "outputs": [],
   "source": [
    "%%html?"
   ]
  },
  {
   "cell_type": "code",
   "execution_count": 34,
   "metadata": {},
   "outputs": [
    {
     "data": {
      "text/html": [
       "<a href=\"https://python-para-impacientes.blogspot.com/2014/08/funciones-magicas-de-ipython.html\" target=\"_blank\">Funciones mágicas de IPython</a> </br>\n",
       "<a href=\"https://www.datacamp.com/community/tutorials/markdown-in-jupyter-notebook\" target=\"_blank\">Markdown in Jupyter Notebook</a> </br>\n",
       "<a href=\"https://medium.com/ibm-data-science-experience/markdown-for-jupyter-notebooks-cheatsheet-386c05aeebed\" target=\"_blank\">Markdown for Jupyter notebooks cheatsheet</a></br>\n",
       "<a href=\"https://towardsdatascience.com/write-markdown-latex-in-the-jupyter-notebook-10985edb91fd\" target=\"_blank\">Learn How to Write Markdown & LaTeX in The Jupyter Notebook</a>\n"
      ],
      "text/plain": [
       "<IPython.core.display.HTML object>"
      ]
     },
     "metadata": {},
     "output_type": "display_data"
    }
   ],
   "source": [
    "%%html\n",
    "<a href=\"https://python-para-impacientes.blogspot.com/2014/08/funciones-magicas-de-ipython.html\" target=\"_blank\">Funciones mágicas de IPython</a> </br>\n",
    "<a href=\"https://www.datacamp.com/community/tutorials/markdown-in-jupyter-notebook\" target=\"_blank\">Markdown in Jupyter Notebook</a> </br>\n",
    "<a href=\"https://medium.com/ibm-data-science-experience/markdown-for-jupyter-notebooks-cheatsheet-386c05aeebed\" target=\"_blank\">Markdown for Jupyter notebooks cheatsheet</a></br>\n",
    "<a href=\"https://towardsdatascience.com/write-markdown-latex-in-the-jupyter-notebook-10985edb91fd\" target=\"_blank\">Learn How to Write Markdown & LaTeX in The Jupyter Notebook</a>"
   ]
  },
  {
   "cell_type": "code",
   "execution_count": 7,
   "metadata": {},
   "outputs": [],
   "source": [
    "%matplotlib inline"
   ]
  },
  {
   "cell_type": "code",
   "execution_count": 8,
   "metadata": {},
   "outputs": [
    {
     "data": {
      "text/plain": [
       "[<matplotlib.lines.Line2D at 0x15d7eab2c50>]"
      ]
     },
     "execution_count": 8,
     "metadata": {},
     "output_type": "execute_result"
    },
    {
     "data": {
      "image/png": "[encoded data removed]",
      "text/plain": [
       "<Figure size 640x480 with 1 Axes>"
      ]
     },
     "metadata": {},
     "output_type": "display_data"
    }
   ],
   "source": [
    "import matplotlib.pyplot as grafico\n",
    "grafico.plot(range(100))"
   ]
  },
  {
   "cell_type": "code",
   "execution_count": 37,
   "metadata": {},
   "outputs": [
    {
     "name": "stdout",
     "output_type": "stream",
     "text": [
      "10\n",
      "Hola 10\n"
     ]
    }
   ],
   "source": [
    "nombre = input()\n",
    "print(\"Hola {0}\".format(nombre))"
   ]
  },
  {
   "cell_type": "code",
   "execution_count": 38,
   "metadata": {},
   "outputs": [
    {
     "name": "stdout",
     "output_type": "stream",
     "text": [
      "Variable   Type        Data/Info\n",
      "--------------------------------\n",
      "grafico    module      <module 'matplotlib.pyplo<...>\\\\matplotlib\\\\pyplot.py'>\n",
      "nombre     str         10\n",
      "saludo     function    <function saludo at 0x0000021D605A9D00>\n",
      "x          int         2\n"
     ]
    }
   ],
   "source": [
    "%whos"
   ]
  },
  {
   "cell_type": "code",
   "execution_count": 39,
   "metadata": {},
   "outputs": [],
   "source": [
    "#Otros aspectos\n",
    "#Agregar elementos interactivos (button, slider, textbox, checkbox)\n",
    "#Notebook en proveedores de computación en la nube: aws, azure, databricks, google cloud"
   ]
  },
  {
   "cell_type": "markdown",
   "metadata": {},
   "source": [
    "## Referencias\n",
    "\n",
    "### Entornos de trabajo\n",
    "__[Jupyter notebook support](https://www.jetbrains.com/help/idea/jupyter-notebook-support.html)__\n",
    "\n",
    "__[Google Colaboratory](https://colab.research.google.com/)__\n",
    "\n",
    "__[Visual Studio Code - Working with Jupyter Notebooks](https://code.visualstudio.com/docs/python/jupyter-support)__\n",
    "\n",
    "__[PyCharm - Jupyter notebook support](https://www.jetbrains.com/help/pycharm/jupyter-notebook-support.html)__\n",
    "\n",
    "### Interactividad\n",
    "__[Working with Jupyter Notebook Widgets](https://www.blog.pythonlibrary.org/2018/10/24/working-with-jupyter-notebook-widgets/)__\n",
    "\n",
    "__[3.3. Mastering widgets in the Jupyter Notebook](https://ipython-books.github.io/33-mastering-widgets-in-the-jupyter-notebook/)__\n",
    "\n",
    "__[Bring your Jupyter Notebook to life with interactive widgets](https://towardsdatascience.com/bring-your-jupyter-notebook-to-life-with-interactive-widgets-bc12e03f0916)__\n",
    "\n",
    "### Kernels\n",
    "__[C# Jupyter Notebooks](https://docs.servicestack.net/jupyter-notebooks-csharp)__\n",
    "\n",
    "__[Java Jupyter Notebooks](https://github.com/SpencerPark/IJava)__\n",
    "\n",
    " "
   ]
  },
  {
   "cell_type": "markdown",
   "metadata": {},
   "source": [
    "# Ejercicios\n",
    "\n",
    "Debajo de esta celda, agregar cuatros celdas con el siguiente contenido:\n",
    "\n",
    "- Para que sirve ESC+L?  (Help > Keyboard Shortcuts) \n",
    "- Una celda que incluya un fragmento de código para obtener la suma de los elementos de una lista, un título y un texto encima del fragmento de código.\n",
    "- Una celda en la que se pueda **ejecutar** el fragmento de código\n",
    "- Una celda con un título, un texto y un enlace a la página web de la UCB\n",
    "- Una celda en la que se muestre cómo funciona la función mágica *%%timeit*\n"
   ]
  },
  {
   "cell_type": "markdown",
   "metadata": {},
   "source": [
    "ESC+L lo que hace es mostrar el numero de lineas."
   ]
  },
  {
   "cell_type": "markdown",
   "metadata": {},
   "source": [
    "\n",
    "\n",
    "# Titulo\n",
    "\n",
    "Un texto descriptivo es un tipo de texto que tiene como objetivo principal transmitir de manera detallada las características, rasgos o cualidades de un objeto, persona, lugar, evento o situación.\n",
    "\n",
    "```\n",
    "lista=[8,4,2]\n",
    "resultado=sum(lista)\n",
    "print(\"El resultado de la suma es:\",resultado)\n",
    "```"
   ]
  },
  {
   "cell_type": "code",
   "execution_count": 2,
   "metadata": {},
   "outputs": [
    {
     "name": "stdout",
     "output_type": "stream",
     "text": [
      "El resultado de la suma es: 14\n"
     ]
    }
   ],
   "source": [
    "lista=[8,4,2]\n",
    "resultado=sum(lista)\n",
    "print(\"El resultado de la suma es:\",resultado)"
   ]
  },
  {
   "cell_type": "markdown",
   "metadata": {},
   "source": [
    "# Titulo\n",
    "\n",
    "Los textos descriptivos objetivos son textos formales y técnicos, y algunos ejemplos serían los textos científicos, sociales, manuales o retratos robots.\n",
    "\n",
    "[UCB](https://cba.ucb.edu.bo/)"
   ]
  },
  {
   "cell_type": "code",
   "execution_count": 8,
   "metadata": {},
   "outputs": [],
   "source": [
    "from math import sqrt\n",
    "\n",
    "# Función para calcular la raíz cuadrada de un número\n",
    "def calcular_raiz_cuadrada(numero):\n",
    "    return sqrt(numero)\n"
   ]
  },
  {
   "cell_type": "code",
   "execution_count": 9,
   "metadata": {},
   "outputs": [
    {
     "name": "stdout",
     "output_type": "stream",
     "text": [
      "193 ns ± 4.74 ns per loop (mean ± std. dev. of 3 runs, 1,000 loops each)\n"
     ]
    }
   ],
   "source": [
    "%%timeit -n 1000 -r 3\n",
    "calcular_raiz_cuadrada(25)"
   ]
  }
 ],
 "metadata": {
  "kernelspec": {
   "display_name": "Python 3 (ipykernel)",
   "language": "python",
   "name": "python3"
  },
  "language_info": {
   "codemirror_mode": {
    "name": "ipython",
    "version": 3
   },
   "file_extension": ".py",
   "mimetype": "text/x-python",
   "name": "python",
   "nbconvert_exporter": "python",
   "pygments_lexer": "ipython3",
   "version": "3.11.5"
  }
 },
 "nbformat": 4,
 "nbformat_minor": 2
}
